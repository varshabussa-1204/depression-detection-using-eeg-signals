{
 "cells": [
  {
   "cell_type": "code",
   "execution_count": 29,
   "id": "62b782b1",
   "metadata": {},
   "outputs": [],
   "source": [
    "import matplotlib.pyplot as plt\n",
    "import pandas as pd\n",
    "import numpy as np\n",
    "import os\n",
    "from keras.models import Sequential\n",
    "from sklearn.metrics import confusion_matrix, precision_score, recall_score, f1_score, accuracy_score\n",
    "import seaborn as sns\n",
    "from sklearn.model_selection import train_test_split\n",
    "from tensorflow.keras.utils import to_categorical\n",
    "from tensorflow.keras.layers import Conv2D, MaxPooling2D, Flatten, Dense\n",
    "from keras.models import model_from_json\n",
    "import pickle"
   ]
  },
  {
   "cell_type": "code",
   "execution_count": 30,
   "id": "e21c073f",
   "metadata": {},
   "outputs": [],
   "source": [
    "import pandas as pd\n",
    "\n",
    "# Load your dataset\n",
    "df = pd.read_csv('Depression_EEG.csv')\n",
    "\n",
    "# Method 1: Remove rows with any null values\n",
    "df_cleaned = df.dropna()\n",
    "\n",
    "# Method 2: Fill null values with the mean of the column\n",
    "df_filled = df.fillna(df.mean())\n",
    "\n",
    "# Method 3: Interpolation (fill using neighboring values)\n",
    "df_interpolated = df.interpolate()\n",
    "\n",
    "# Save the cleaned dataset\n",
    "df_cleaned.to_csv('Depression_EEG_cleaned.csv', index=False)\n"
   ]
  },
  {
   "cell_type": "code",
   "execution_count": 31,
   "id": "50821348",
   "metadata": {},
   "outputs": [],
   "source": [
    "def calculateMetrics(algorithm, predict, testY):\n",
    "    p = precision_score(testY, predict, average='macro') * 100\n",
    "    r = recall_score(testY, predict, average='macro') * 100\n",
    "    f = f1_score(testY, predict, average='macro') * 100\n",
    "    a = accuracy_score(testY, predict) * 100\n",
    "    conf_matrix = confusion_matrix(testY, predict)\n",
    "    \n",
    "    print(f\"{algorithm} Accuracy    : {a}\")\n",
    "    print(f\"{algorithm} Precision   : {p}\")\n",
    "    print(f\"{algorithm} Recall      : {r}\")\n",
    "    print(f\"{algorithm} FScore      : {f}\\n\")\n",
    "    \n",
    "    labels = ['Normal', 'Depressed']\n",
    "    plt.figure(figsize=(6, 6))\n",
    "    ax = sns.heatmap(conf_matrix, xticklabels=labels, yticklabels=labels, annot=True, cmap=\"viridis\", fmt=\"g\")\n",
    "    ax.set_ylim([0, 2])\n",
    "    plt.title(f\"{algorithm} Confusion Matrix\")\n",
    "    plt.ylabel('True Class')\n",
    "    plt.xlabel('Predicted Class')\n",
    "    plt.show()"
   ]
  },
  {
   "cell_type": "code",
   "execution_count": 32,
   "id": "2aa8121b",
   "metadata": {},
   "outputs": [],
   "source": [
    "import numpy as np\n",
    "import os\n",
    "import pickle\n",
    "from sklearn.model_selection import train_test_split\n",
    "from keras.models import Sequential, model_from_json\n",
    "from keras.layers import Conv2D, MaxPooling2D, Flatten, Dense\n",
    "from keras.utils import to_categorical\n",
    "\n",
    "def runCNN(X, Y):\n",
    "    # Reshape and preprocess the data\n",
    "    X = X[:, 0:972]  # Adjust based on your features\n",
    "    XX = X.reshape(X.shape[0], 18, 18, 3)  # Reshape according to your dimensions\n",
    "    YY = to_categorical(Y)\n",
    "\n",
    "    # Split data into training and testing sets\n",
    "    X_train1, X_test1, y_train1, y_test1 = train_test_split(XX, YY, test_size=0.2)\n",
    "\n",
    "    # Check if the model exists\n",
    "    if os.path.exists('model.json'):\n",
    "        with open('model.json', \"r\") as json_file:\n",
    "            loaded_model_json = json_file.read()\n",
    "            cnn = model_from_json(loaded_model_json)\n",
    "        cnn.load_weights(\"model_weights.h5\")\n",
    "    else:\n",
    "        # Build the CNN model\n",
    "        cnn = Sequential()\n",
    "        cnn.add(Conv2D(64, (3, 3), input_shape=(X_train1.shape[1], X_train1.shape[2], X_train1.shape[3]), activation='relu'))\n",
    "        cnn.add(MaxPooling2D(pool_size=(2, 2)))\n",
    "        cnn.add(Conv2D(64, (3, 3), activation='relu'))\n",
    "        cnn.add(MaxPooling2D(pool_size=(2, 2)))\n",
    "        cnn.add(Conv2D(64, (3, 3), activation='relu'))\n",
    "        cnn.add(MaxPooling2D(pool_size=(2, 2)))\n",
    "        cnn.add(Conv2D(64, (3, 3), activation='relu'))\n",
    "        cnn.add(MaxPooling2D(pool_size=(2, 2)))\n",
    "        cnn.add(Flatten())\n",
    "        cnn.add(Dense(units=256, activation='relu'))\n",
    "        cnn.add(Dense(units=y_test1.shape[1], activation='softmax'))\n",
    "        cnn.compile(optimizer='adam', loss='categorical_crossentropy', metrics=['accuracy'])\n",
    "        \n",
    "        # Train the model\n",
    "        hist = cnn.fit(X_train1, y_train1, batch_size=16, epochs=100, shuffle=True, verbose=2, validation_data=(X_test1, y_test1))\n",
    "        \n",
    "        # Save model weights and architecture\n",
    "        cnn.save_weights('model_weights.h5')\n",
    "        model_json = cnn.to_json()\n",
    "        with open(\"model.json\", \"w\") as json_file:\n",
    "            json_file.write(model_json)\n",
    "        \n",
    "        # Save training history\n",
    "        with open('history.pckl', 'wb') as f:\n",
    "            pickle.dump(hist.history, f)\n",
    "\n",
    "    # Print CNN summary\n",
    "    print(cnn.summary())\n",
    "\n",
    "    # Predict and calculate metrics\n",
    "    predict = cnn.predict(X_test1)\n",
    "    predict = np.argmax(predict, axis=1)\n",
    "    testY = np.argmax(y_test1, axis=1)\n",
    "    \n",
    "    # Assuming calculateMetrics is defined elsewhere\n",
    "    calculateMetrics(\"CNN\", predict, testY)\n"
   ]
  },
  {
   "cell_type": "code",
   "execution_count": 35,
   "id": "9e782899",
   "metadata": {},
   "outputs": [
    {
     "data": {
      "text/html": [
       "<pre style=\"white-space:pre;overflow-x:auto;line-height:normal;font-family:Menlo,'DejaVu Sans Mono',consolas,'Courier New',monospace\"><span style=\"font-weight: bold\">Model: \"sequential_17\"</span>\n",
       "</pre>\n"
      ],
      "text/plain": [
       "\u001b[1mModel: \"sequential_17\"\u001b[0m\n"
      ]
     },
     "metadata": {},
     "output_type": "display_data"
    },
    {
     "data": {
      "text/html": [
       "<pre style=\"white-space:pre;overflow-x:auto;line-height:normal;font-family:Menlo,'DejaVu Sans Mono',consolas,'Courier New',monospace\">┏━━━━━━━━━━━━━━━━━━━━━━━━━━━━━━━━━━━━━━┳━━━━━━━━━━━━━━━━━━━━━━━━━━━━━┳━━━━━━━━━━━━━━━━━┓\n",
       "┃<span style=\"font-weight: bold\"> Layer (type)                         </span>┃<span style=\"font-weight: bold\"> Output Shape                </span>┃<span style=\"font-weight: bold\">         Param # </span>┃\n",
       "┡━━━━━━━━━━━━━━━━━━━━━━━━━━━━━━━━━━━━━━╇━━━━━━━━━━━━━━━━━━━━━━━━━━━━━╇━━━━━━━━━━━━━━━━━┩\n",
       "│ conv2d_30 (<span style=\"color: #0087ff; text-decoration-color: #0087ff\">Conv2D</span>)                   │ (<span style=\"color: #00d7ff; text-decoration-color: #00d7ff\">None</span>, <span style=\"color: #00af00; text-decoration-color: #00af00\">16</span>, <span style=\"color: #00af00; text-decoration-color: #00af00\">16</span>, <span style=\"color: #00af00; text-decoration-color: #00af00\">32</span>)          │             <span style=\"color: #00af00; text-decoration-color: #00af00\">896</span> │\n",
       "├──────────────────────────────────────┼─────────────────────────────┼─────────────────┤\n",
       "│ max_pooling2d_30 (<span style=\"color: #0087ff; text-decoration-color: #0087ff\">MaxPooling2D</span>)      │ (<span style=\"color: #00d7ff; text-decoration-color: #00d7ff\">None</span>, <span style=\"color: #00af00; text-decoration-color: #00af00\">8</span>, <span style=\"color: #00af00; text-decoration-color: #00af00\">8</span>, <span style=\"color: #00af00; text-decoration-color: #00af00\">32</span>)            │               <span style=\"color: #00af00; text-decoration-color: #00af00\">0</span> │\n",
       "├──────────────────────────────────────┼─────────────────────────────┼─────────────────┤\n",
       "│ conv2d_31 (<span style=\"color: #0087ff; text-decoration-color: #0087ff\">Conv2D</span>)                   │ (<span style=\"color: #00d7ff; text-decoration-color: #00d7ff\">None</span>, <span style=\"color: #00af00; text-decoration-color: #00af00\">6</span>, <span style=\"color: #00af00; text-decoration-color: #00af00\">6</span>, <span style=\"color: #00af00; text-decoration-color: #00af00\">32</span>)            │           <span style=\"color: #00af00; text-decoration-color: #00af00\">9,248</span> │\n",
       "├──────────────────────────────────────┼─────────────────────────────┼─────────────────┤\n",
       "│ max_pooling2d_31 (<span style=\"color: #0087ff; text-decoration-color: #0087ff\">MaxPooling2D</span>)      │ (<span style=\"color: #00d7ff; text-decoration-color: #00d7ff\">None</span>, <span style=\"color: #00af00; text-decoration-color: #00af00\">3</span>, <span style=\"color: #00af00; text-decoration-color: #00af00\">3</span>, <span style=\"color: #00af00; text-decoration-color: #00af00\">32</span>)            │               <span style=\"color: #00af00; text-decoration-color: #00af00\">0</span> │\n",
       "├──────────────────────────────────────┼─────────────────────────────┼─────────────────┤\n",
       "│ flatten_15 (<span style=\"color: #0087ff; text-decoration-color: #0087ff\">Flatten</span>)                 │ (<span style=\"color: #00d7ff; text-decoration-color: #00d7ff\">None</span>, <span style=\"color: #00af00; text-decoration-color: #00af00\">288</span>)                 │               <span style=\"color: #00af00; text-decoration-color: #00af00\">0</span> │\n",
       "├──────────────────────────────────────┼─────────────────────────────┼─────────────────┤\n",
       "│ dense_14 (<span style=\"color: #0087ff; text-decoration-color: #0087ff\">Dense</span>)                     │ (<span style=\"color: #00d7ff; text-decoration-color: #00d7ff\">None</span>, <span style=\"color: #00af00; text-decoration-color: #00af00\">256</span>)                 │          <span style=\"color: #00af00; text-decoration-color: #00af00\">73,984</span> │\n",
       "├──────────────────────────────────────┼─────────────────────────────┼─────────────────┤\n",
       "│ dense_15 (<span style=\"color: #0087ff; text-decoration-color: #0087ff\">Dense</span>)                     │ (<span style=\"color: #00d7ff; text-decoration-color: #00d7ff\">None</span>, <span style=\"color: #00af00; text-decoration-color: #00af00\">2</span>)                   │             <span style=\"color: #00af00; text-decoration-color: #00af00\">514</span> │\n",
       "└──────────────────────────────────────┴─────────────────────────────┴─────────────────┘\n",
       "</pre>\n"
      ],
      "text/plain": [
       "┏━━━━━━━━━━━━━━━━━━━━━━━━━━━━━━━━━━━━━━┳━━━━━━━━━━━━━━━━━━━━━━━━━━━━━┳━━━━━━━━━━━━━━━━━┓\n",
       "┃\u001b[1m \u001b[0m\u001b[1mLayer (type)                        \u001b[0m\u001b[1m \u001b[0m┃\u001b[1m \u001b[0m\u001b[1mOutput Shape               \u001b[0m\u001b[1m \u001b[0m┃\u001b[1m \u001b[0m\u001b[1m        Param #\u001b[0m\u001b[1m \u001b[0m┃\n",
       "┡━━━━━━━━━━━━━━━━━━━━━━━━━━━━━━━━━━━━━━╇━━━━━━━━━━━━━━━━━━━━━━━━━━━━━╇━━━━━━━━━━━━━━━━━┩\n",
       "│ conv2d_30 (\u001b[38;5;33mConv2D\u001b[0m)                   │ (\u001b[38;5;45mNone\u001b[0m, \u001b[38;5;34m16\u001b[0m, \u001b[38;5;34m16\u001b[0m, \u001b[38;5;34m32\u001b[0m)          │             \u001b[38;5;34m896\u001b[0m │\n",
       "├──────────────────────────────────────┼─────────────────────────────┼─────────────────┤\n",
       "│ max_pooling2d_30 (\u001b[38;5;33mMaxPooling2D\u001b[0m)      │ (\u001b[38;5;45mNone\u001b[0m, \u001b[38;5;34m8\u001b[0m, \u001b[38;5;34m8\u001b[0m, \u001b[38;5;34m32\u001b[0m)            │               \u001b[38;5;34m0\u001b[0m │\n",
       "├──────────────────────────────────────┼─────────────────────────────┼─────────────────┤\n",
       "│ conv2d_31 (\u001b[38;5;33mConv2D\u001b[0m)                   │ (\u001b[38;5;45mNone\u001b[0m, \u001b[38;5;34m6\u001b[0m, \u001b[38;5;34m6\u001b[0m, \u001b[38;5;34m32\u001b[0m)            │           \u001b[38;5;34m9,248\u001b[0m │\n",
       "├──────────────────────────────────────┼─────────────────────────────┼─────────────────┤\n",
       "│ max_pooling2d_31 (\u001b[38;5;33mMaxPooling2D\u001b[0m)      │ (\u001b[38;5;45mNone\u001b[0m, \u001b[38;5;34m3\u001b[0m, \u001b[38;5;34m3\u001b[0m, \u001b[38;5;34m32\u001b[0m)            │               \u001b[38;5;34m0\u001b[0m │\n",
       "├──────────────────────────────────────┼─────────────────────────────┼─────────────────┤\n",
       "│ flatten_15 (\u001b[38;5;33mFlatten\u001b[0m)                 │ (\u001b[38;5;45mNone\u001b[0m, \u001b[38;5;34m288\u001b[0m)                 │               \u001b[38;5;34m0\u001b[0m │\n",
       "├──────────────────────────────────────┼─────────────────────────────┼─────────────────┤\n",
       "│ dense_14 (\u001b[38;5;33mDense\u001b[0m)                     │ (\u001b[38;5;45mNone\u001b[0m, \u001b[38;5;34m256\u001b[0m)                 │          \u001b[38;5;34m73,984\u001b[0m │\n",
       "├──────────────────────────────────────┼─────────────────────────────┼─────────────────┤\n",
       "│ dense_15 (\u001b[38;5;33mDense\u001b[0m)                     │ (\u001b[38;5;45mNone\u001b[0m, \u001b[38;5;34m2\u001b[0m)                   │             \u001b[38;5;34m514\u001b[0m │\n",
       "└──────────────────────────────────────┴─────────────────────────────┴─────────────────┘\n"
      ]
     },
     "metadata": {},
     "output_type": "display_data"
    },
    {
     "data": {
      "text/html": [
       "<pre style=\"white-space:pre;overflow-x:auto;line-height:normal;font-family:Menlo,'DejaVu Sans Mono',consolas,'Courier New',monospace\"><span style=\"font-weight: bold\"> Total params: </span><span style=\"color: #00af00; text-decoration-color: #00af00\">253,928</span> (991.91 KB)\n",
       "</pre>\n"
      ],
      "text/plain": [
       "\u001b[1m Total params: \u001b[0m\u001b[38;5;34m253,928\u001b[0m (991.91 KB)\n"
      ]
     },
     "metadata": {},
     "output_type": "display_data"
    },
    {
     "data": {
      "text/html": [
       "<pre style=\"white-space:pre;overflow-x:auto;line-height:normal;font-family:Menlo,'DejaVu Sans Mono',consolas,'Courier New',monospace\"><span style=\"font-weight: bold\"> Trainable params: </span><span style=\"color: #00af00; text-decoration-color: #00af00\">84,642</span> (330.63 KB)\n",
       "</pre>\n"
      ],
      "text/plain": [
       "\u001b[1m Trainable params: \u001b[0m\u001b[38;5;34m84,642\u001b[0m (330.63 KB)\n"
      ]
     },
     "metadata": {},
     "output_type": "display_data"
    },
    {
     "data": {
      "text/html": [
       "<pre style=\"white-space:pre;overflow-x:auto;line-height:normal;font-family:Menlo,'DejaVu Sans Mono',consolas,'Courier New',monospace\"><span style=\"font-weight: bold\"> Non-trainable params: </span><span style=\"color: #00af00; text-decoration-color: #00af00\">0</span> (0.00 B)\n",
       "</pre>\n"
      ],
      "text/plain": [
       "\u001b[1m Non-trainable params: \u001b[0m\u001b[38;5;34m0\u001b[0m (0.00 B)\n"
      ]
     },
     "metadata": {},
     "output_type": "display_data"
    },
    {
     "data": {
      "text/html": [
       "<pre style=\"white-space:pre;overflow-x:auto;line-height:normal;font-family:Menlo,'DejaVu Sans Mono',consolas,'Courier New',monospace\"><span style=\"font-weight: bold\"> Optimizer params: </span><span style=\"color: #00af00; text-decoration-color: #00af00\">169,286</span> (661.28 KB)\n",
       "</pre>\n"
      ],
      "text/plain": [
       "\u001b[1m Optimizer params: \u001b[0m\u001b[38;5;34m169,286\u001b[0m (661.28 KB)\n"
      ]
     },
     "metadata": {},
     "output_type": "display_data"
    },
    {
     "name": "stdout",
     "output_type": "stream",
     "text": [
      "None\n",
      "\u001b[1m16/16\u001b[0m \u001b[32m━━━━━━━━━━━━━━━━━━━━\u001b[0m\u001b[37m\u001b[0m \u001b[1m1s\u001b[0m 22ms/step\n",
      "CNN Accuracy    : 59.2741935483871\n",
      "CNN Precision   : 44.22568322068763\n",
      "CNN Recall      : 60.21594684385382\n",
      "CNN FScore      : 49.95258061295797\n",
      "\n"
     ]
    },
    {
     "name": "stderr",
     "output_type": "stream",
     "text": [
      "C:\\Users\\bussa\\anaconda3\\Lib\\site-packages\\sklearn\\metrics\\_classification.py:1469: UndefinedMetricWarning: Precision is ill-defined and being set to 0.0 in labels with no predicted samples. Use `zero_division` parameter to control this behavior.\n",
      "  _warn_prf(average, modifier, msg_start, len(result))\n"
     ]
    },
    {
     "data": {
      "image/png": "[encoded data removed]",
      "text/plain": [
       "<Figure size 600x600 with 2 Axes>"
      ]
     },
     "metadata": {},
     "output_type": "display_data"
    }
   ],
   "source": [
    "\n",
    "def load_and_train():\n",
    "    # Update the path to the actual dataset file\n",
    "    dataset = pd.read_csv('Depression_EEG_cleaned.csv')\n",
    "    \n",
    "    # Preprocess data\n",
    "    dataset = dataset.values\n",
    "    X = dataset[:, 0:dataset.shape[1]-1]\n",
    "    Y = dataset[:, dataset.shape[1]-1]\n",
    "\n",
    "    # Run CNN model\n",
    "    runCNN(X, Y)\n",
    "\n",
    "# Call the function to load data and train the CNN model\n",
    "load_and_train()\n"
   ]
  },
  {
   "cell_type": "code",
   "execution_count": 36,
   "id": "6d04614b",
   "metadata": {},
   "outputs": [
    {
     "name": "stdout",
     "output_type": "stream",
     "text": [
      "Number of samples: 2479, Number of features: 988\n",
      "Reshaped data into: (2479, 38, 26, 1)\n",
      "Resized data shape: (2479, 32, 32)\n",
      "RGB data shape: (2479, 32, 32, 3)\n",
      "Categorical labels shape: (2479, 3)\n",
      "Train data shape: (1983, 32, 32, 3), Train labels shape: (1983, 3)\n",
      "Test data shape: (496, 32, 32, 3), Test labels shape: (496, 3)\n",
      "Epoch 1/10\n",
      "\u001b[1m124/124\u001b[0m \u001b[32m━━━━━━━━━━━━━━━━━━━━\u001b[0m\u001b[37m\u001b[0m \u001b[1m357s\u001b[0m 317ms/step - accuracy: 0.6040 - loss: 0.9449 - val_accuracy: 0.4758 - val_loss: 1.0295\n",
      "Epoch 2/10\n",
      "\u001b[1m124/124\u001b[0m \u001b[32m━━━━━━━━━━━━━━━━━━━━\u001b[0m\u001b[37m\u001b[0m \u001b[1m33s\u001b[0m 268ms/step - accuracy: 0.7364 - loss: 0.5890 - val_accuracy: 0.6452 - val_loss: 0.8890\n",
      "Epoch 3/10\n",
      "\u001b[1m124/124\u001b[0m \u001b[32m━━━━━━━━━━━━━━━━━━━━\u001b[0m\u001b[37m\u001b[0m \u001b[1m39s\u001b[0m 311ms/step - accuracy: 0.8308 - loss: 0.4545 - val_accuracy: 0.7944 - val_loss: 0.6234\n",
      "Epoch 4/10\n",
      "\u001b[1m124/124\u001b[0m \u001b[32m━━━━━━━━━━━━━━━━━━━━\u001b[0m\u001b[37m\u001b[0m \u001b[1m37s\u001b[0m 295ms/step - accuracy: 0.8391 - loss: 0.4194 - val_accuracy: 0.8286 - val_loss: 0.9403\n",
      "Epoch 5/10\n",
      "\u001b[1m124/124\u001b[0m \u001b[32m━━━━━━━━━━━━━━━━━━━━\u001b[0m\u001b[37m\u001b[0m \u001b[1m34s\u001b[0m 278ms/step - accuracy: 0.8812 - loss: 0.3193 - val_accuracy: 0.8185 - val_loss: 0.6246\n",
      "Epoch 6/10\n",
      "\u001b[1m124/124\u001b[0m \u001b[32m━━━━━━━━━━━━━━━━━━━━\u001b[0m\u001b[37m\u001b[0m \u001b[1m34s\u001b[0m 274ms/step - accuracy: 0.8957 - loss: 0.3117 - val_accuracy: 0.8165 - val_loss: 0.8165\n",
      "Epoch 7/10\n",
      "\u001b[1m124/124\u001b[0m \u001b[32m━━━━━━━━━━━━━━━━━━━━\u001b[0m\u001b[37m\u001b[0m \u001b[1m42s\u001b[0m 335ms/step - accuracy: 0.9048 - loss: 0.2439 - val_accuracy: 0.9073 - val_loss: 0.2999\n",
      "Epoch 8/10\n",
      "\u001b[1m124/124\u001b[0m \u001b[32m━━━━━━━━━━━━━━━━━━━━\u001b[0m\u001b[37m\u001b[0m \u001b[1m36s\u001b[0m 286ms/step - accuracy: 0.9313 - loss: 0.2117 - val_accuracy: 0.8831 - val_loss: 0.6170\n",
      "Epoch 9/10\n",
      "\u001b[1m124/124\u001b[0m \u001b[32m━━━━━━━━━━━━━━━━━━━━\u001b[0m\u001b[37m\u001b[0m \u001b[1m36s\u001b[0m 290ms/step - accuracy: 0.9356 - loss: 0.2188 - val_accuracy: 0.8851 - val_loss: 0.3087\n",
      "Epoch 10/10\n",
      "\u001b[1m124/124\u001b[0m \u001b[32m━━━━━━━━━━━━━━━━━━━━\u001b[0m\u001b[37m\u001b[0m \u001b[1m35s\u001b[0m 281ms/step - accuracy: 0.9501 - loss: 0.1853 - val_accuracy: 0.8790 - val_loss: 0.3746\n",
      "\u001b[1m16/16\u001b[0m \u001b[32m━━━━━━━━━━━━━━━━━━━━\u001b[0m\u001b[37m\u001b[0m \u001b[1m7s\u001b[0m 96ms/step - accuracy: 0.8496 - loss: 0.4472\n",
      "Test accuracy: 87.90%\n",
      "\u001b[1m16/16\u001b[0m \u001b[32m━━━━━━━━━━━━━━━━━━━━\u001b[0m\u001b[37m\u001b[0m \u001b[1m11s\u001b[0m 411ms/step\n",
      "DenseNet Accuracy    : 87.90322580645162\n",
      "DenseNet Precision   : 89.77763628462742\n",
      "DenseNet Recall      : 87.87609965254676\n",
      "DenseNet FScore      : 88.19187220642988\n",
      "\n"
     ]
    },
    {
     "data": {
      "image/png": "[encoded data removed]",
      "text/plain": [
       "<Figure size 600x600 with 2 Axes>"
      ]
     },
     "metadata": {},
     "output_type": "display_data"
    }
   ],
   "source": [
    "import numpy as np\n",
    "import pandas as pd\n",
    "import cv2\n",
    "from sklearn.model_selection import train_test_split\n",
    "from sklearn.preprocessing import StandardScaler\n",
    "from tensorflow.keras.applications import DenseNet121\n",
    "from tensorflow.keras.models import Sequential\n",
    "from tensorflow.keras.layers import Dense, Flatten, Dropout\n",
    "from tensorflow.keras.utils import to_categorical\n",
    "\n",
    "# Load your dataset (replace with your actual loading method)\n",
    "# df = pd.read_csv('your_dataset.csv')\n",
    "# Assuming the dataset is loaded into X and y\n",
    "X = df.iloc[:, :-1].values  # Features\n",
    "y = df.iloc[:, -1].values    # Labels\n",
    "\n",
    "# Scale the data (e.g., using StandardScaler)\n",
    "scaler = StandardScaler()\n",
    "X_scaled = scaler.fit_transform(X)\n",
    "\n",
    "# Reshape the data (number of samples, height, width, channels)\n",
    "num_samples, num_features = X_scaled.shape\n",
    "height, width = 38, 26  # Original reshape dimensions\n",
    "\n",
    "# Check that num_features can be reshaped correctly\n",
    "print(f\"Number of samples: {num_samples}, Number of features: {num_features}\")\n",
    "\n",
    "# Ensure the total number of features is equal to height * width\n",
    "if num_features != height * width:\n",
    "    raise ValueError(f\"Cannot reshape: {num_features} != {height * width}\")\n",
    "\n",
    "# Reshape the data into a 4D array\n",
    "X_reshaped = X_scaled.reshape(-1, height, width, 1)\n",
    "print(f\"Reshaped data into: {X_reshaped.shape}\")\n",
    "\n",
    "# Resize images to 32x32\n",
    "X_resized = np.array([cv2.resize(image.squeeze(), (32, 32)) for image in X_reshaped])\n",
    "print(f\"Resized data shape: {X_resized.shape}\")\n",
    "\n",
    "# Convert grayscale images to 3 channels\n",
    "X_resized_rgb = np.repeat(X_resized[..., np.newaxis], 3, axis=-1)\n",
    "print(f\"RGB data shape: {X_resized_rgb.shape}\")\n",
    "\n",
    "# Convert labels to categorical format\n",
    "y_categorical = to_categorical(y)\n",
    "print(f\"Categorical labels shape: {y_categorical.shape}\")\n",
    "\n",
    "# Train-test split\n",
    "X_train, X_test, y_train, y_test = train_test_split(X_resized_rgb, y_categorical, test_size=0.2, random_state=42)\n",
    "print(f\"Train data shape: {X_train.shape}, Train labels shape: {y_train.shape}\")\n",
    "print(f\"Test data shape: {X_test.shape}, Test labels shape: {y_test.shape}\")\n",
    "\n",
    "# Build DenseNet model\n",
    "densenet_base = DenseNet121(include_top=False, input_shape=(32, 32, 3), weights=None)\n",
    "\n",
    "model = Sequential()\n",
    "model.add(densenet_base)\n",
    "model.add(Flatten())\n",
    "model.add(Dense(128, activation='relu'))\n",
    "model.add(Dropout(0.5))\n",
    "model.add(Dense(y_categorical.shape[1], activation='softmax'))\n",
    "\n",
    "# Compile the model\n",
    "model.compile(optimizer='adam', loss='categorical_crossentropy', metrics=['accuracy'])\n",
    "\n",
    "# Train the model\n",
    "history = model.fit(X_train, y_train, validation_data=(X_test, y_test), epochs=10, batch_size=16)\n",
    "\n",
    "\n",
    "test_loss, test_acc = model.evaluate(X_test, y_test)\n",
    "print(f'Test accuracy: {test_acc * 100:.2f}%')\n",
    "predict =model.predict(X_test)\n",
    "predict = np.argmax(predict, axis=1)\n",
    "testY = np.argmax(y_test, axis=1)\n",
    "calculateMetrics(\"DenseNet\", predict, testY)\n"
   ]
  },
  {
   "cell_type": "code",
   "execution_count": null,
   "id": "dca0abd2",
   "metadata": {},
   "outputs": [],
   "source": [
    "import pickle\n",
    "with open('dense_history.pckl', 'wb') as f:\n",
    "    pickle.dump(dense_hist.history, f)\n"
   ]
  },
  {
   "cell_type": "code",
   "execution_count": null,
   "id": "66c0c1f3",
   "metadata": {},
   "outputs": [],
   "source": []
  },
  {
   "cell_type": "code",
   "execution_count": null,
   "id": "0cb18877",
   "metadata": {},
   "outputs": [],
   "source": []
  },
  {
   "cell_type": "code",
   "execution_count": null,
   "id": "01144fff",
   "metadata": {},
   "outputs": [],
   "source": []
  },
  {
   "cell_type": "code",
   "execution_count": null,
   "id": "767703e5",
   "metadata": {},
   "outputs": [],
   "source": []
  },
  {
   "cell_type": "code",
   "execution_count": null,
   "id": "5b168c6c",
   "metadata": {},
   "outputs": [],
   "source": []
  }
 ],
 "metadata": {
  "kernelspec": {
   "display_name": "Python 3 (ipykernel)",
   "language": "python",
   "name": "python3"
  },
  "language_info": {
   "codemirror_mode": {
    "name": "ipython",
    "version": 3
   },
   "file_extension": ".py",
   "mimetype": "text/x-python",
   "name": "python",
   "nbconvert_exporter": "python",
   "pygments_lexer": "ipython3",
   "version": "3.11.5"
  }
 },
 "nbformat": 4,
 "nbformat_minor": 5
}
